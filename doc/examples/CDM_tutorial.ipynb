{
 "metadata": {
  "name": "CDM_tutorial"
 },
 "nbformat": 3,
 "nbformat_minor": 0,
 "worksheets": [
  {
   "cells": [
    {
     "cell_type": "code",
     "collapsed": false,
     "input": "! all_entities_Genome -show-fields",
     "language": "python",
     "metadata": {},
     "outputs": []
    },
    {
     "cell_type": "code",
     "collapsed": false,
     "input": "! all_entities_Genome -f scientific_name | grep \"Streptococcus pneumoniae\"",
     "language": "python",
     "metadata": {},
     "outputs": []
    },
    {
     "cell_type": "code",
     "collapsed": false,
     "input": "! all_entities_Genome -f scientific_name | grep \"Streptococcus pneumoniae\" | genomes_to_fids CDS -c 1 | fids_to_functions | grep -i \"triosephosphate isomerase\"",
     "language": "python",
     "metadata": {},
     "outputs": []
    },
    {
     "cell_type": "code",
     "collapsed": false,
     "input": "%%bash\nall_entities_Genome -f scientific_name | grep \"Streptococcus pneumonia\"  > all_strep\nls -a\necho \">>>>> head\"\nhead all_strep\necho \">>>>> tail\"\ntail all_strep",
     "language": "python",
     "metadata": {},
     "outputs": []
    },
    {
     "cell_type": "code",
     "collapsed": false,
     "input": "! all_entities_Publication -a | head",
     "language": "python",
     "metadata": {},
     "outputs": []
    },
    {
     "cell_type": "code",
     "collapsed": false,
     "input": "! echo 'kb|g.0' | get_entity_Genome -f 'scientific_name,contigs,dna_size'",
     "language": "python",
     "metadata": {},
     "outputs": []
    },
    {
     "cell_type": "code",
     "collapsed": false,
     "input": "! echo 'kb|g.3857' | get_relationship_IsComposedOf -to id | contigs_to_sequences\n",
     "language": "python",
     "metadata": {},
     "outputs": []
    },
    {
     "cell_type": "code",
     "collapsed": false,
     "input": "",
     "language": "python",
     "metadata": {},
     "outputs": []
    }
   ],
   "metadata": {}
  }
 ]
}