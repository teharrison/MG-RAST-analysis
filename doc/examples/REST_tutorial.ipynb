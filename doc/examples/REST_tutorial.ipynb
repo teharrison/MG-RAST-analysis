{
 "metadata": {
  "name": "REST_tutorial"
 },
 "nbformat": 3,
 "nbformat_minor": 0,
 "worksheets": [
  {
   "cells": [
    {
     "cell_type": "code",
     "collapsed": false,
     "input": "import json\ngut_samples = [['chic_1', \"mgm4440283.3\"],\n['chic_2', \"mgm4440284.3\"],\n['chic_3', \"mgm4440285.3\"],\n['chic_4', \"mgm4440286.3\"],\n['cow_1', \"mgm4441679.3\"],\n['cow_2', \"mgm4441680.3\"],\n['cow_3', \"mgm4441682.3\"],\n['mus_1', \"mgm4440463.3\"],\n['mus_2', \"mgm4440464.3\"],\n['fish_1', \"mgm4441695.3\"],\n['fish_2', \"mgm4441696.3\"]]",
     "language": "python",
     "metadata": {},
     "outputs": []
    },
    {
     "cell_type": "code",
     "collapsed": false,
     "input": "chic_1 = gut_samples[0][1]\nchic_1_data = ! wget -q -O - \"http://api.metagenomics.anl.gov/metagenome/$chic_1\"\nchic_1_obj = json.loads(chic_1_data[0])\nprint chic_1_obj['name']\nprint chic_1_obj['id']\nprint chic_1_obj['metadata']['sample']",
     "language": "python",
     "metadata": {},
     "outputs": []
    },
    {
     "cell_type": "code",
     "collapsed": false,
     "input": "gut_ids  = \"&\".join( map(lambda x: \"id=\"+x[1], gut_samples) )\ngut_data = ! wget -q -O - \"http://api.metagenomics.anl.gov/matrix/function?$gut_ids\"\ngut_objs = json.loads(gut_data[0])",
     "language": "python",
     "metadata": {},
     "outputs": []
    },
    {
     "cell_type": "code",
     "collapsed": false,
     "input": "print gut_objs['format']\nprint gut_objs['columns']\ngut_objs['rows'][:10]",
     "language": "python",
     "metadata": {},
     "outputs": []
    },
    {
     "cell_type": "code",
     "collapsed": false,
     "input": "print gut_objs['matrix_type']\nprint gut_objs['shape']\nprint gut_objs['data'][:10]",
     "language": "python",
     "metadata": {},
     "outputs": []
    },
    {
     "cell_type": "code",
     "collapsed": false,
     "input": "",
     "language": "python",
     "metadata": {},
     "outputs": []
    }
   ],
   "metadata": {}
  }
 ]
}