{
 "metadata": {
  "name": "genome_analysis_tutorial"
 },
 "nbformat": 3,
 "nbformat_minor": 0,
 "worksheets": [
  {
   "cells": [
    {
     "cell_type": "code",
     "collapsed": false,
     "input": "ecoli = ! all_entities_Genome -f scientific_name | grep \"Escherichia coli O104:H4\"\nsulfo = ! all_entities_Genome -f scientific_name | grep Thermodesulfo | grep -v 'kb|g.9127'\n\necoli_set = map( lambda x: x.split('\\t'), ecoli[:3] )\nsulfo_set = map( lambda x: x.split('\\t'), sulfo )\n\ngenome_names = slice_column(ecoli_set+sulfo_set, 1)\ngenome_ids   = slice_column(ecoli_set+sulfo_set, 0)\n\nprint genome_ids\nprint genome_names",
     "language": "python",
     "metadata": {},
     "outputs": []
    },
    {
     "cell_type": "code",
     "collapsed": false,
     "input": "genome_data = analysis.Analysis(genome_ids, 'genome', level='subsystem')\nprint genome_data.ids()",
     "language": "python",
     "metadata": {},
     "outputs": []
    },
    {
     "cell_type": "code",
     "collapsed": false,
     "input": "genome_data.annotations()[:10]",
     "language": "python",
     "metadata": {},
     "outputs": []
    },
    {
     "cell_type": "code",
     "collapsed": false,
     "input": "print \"python desnse matrix\"\nprint genome_data.matrix[:10]\nprint \"r dense matrix\"\nprint genome_data.Rmatrix",
     "language": "python",
     "metadata": {},
     "outputs": []
    },
    {
     "cell_type": "code",
     "collapsed": false,
     "input": "apco = genome_data.get_pco(method='bray-curtis', normalize=0)\nprint apco",
     "language": "python",
     "metadata": {},
     "outputs": []
    },
    {
     "cell_type": "code",
     "collapsed": false,
     "input": "afile = genome_data.plot_pco(labels=genome_names, title='PCoA of genome data')\nImage(filename=afile)",
     "language": "python",
     "metadata": {},
     "outputs": []
    },
    {
     "cell_type": "code",
     "collapsed": false,
     "input": "afile = genome_data.plot_heatmap(labels=genome_names, title='Heatmap of genome data')\nImage(filename=afile)",
     "language": "python",
     "metadata": {},
     "outputs": []
    },
    {
     "cell_type": "code",
     "collapsed": false,
     "input": "pair_data = analysis.Analysis(['kb|g.81', 'kb|g.3153'], 'genome', level='level1')\nprint pair_data.ids()",
     "language": "python",
     "metadata": {},
     "outputs": []
    },
    {
     "cell_type": "code",
     "collapsed": false,
     "input": "ecoli_slice = slice_column(pair_data.matrix, 1)\nsulfo_slice = slice_column(pair_data.matrix, 0)\n\nprint ecoli_slice\nprint sulfo_slice\nprint pair_data.annotations()",
     "language": "python",
     "metadata": {},
     "outputs": []
    },
    {
     "cell_type": "code",
     "collapsed": false,
     "input": "ecoli_pie = pie(ecoli_slice, labels=pair_data.annotations())",
     "language": "python",
     "metadata": {},
     "outputs": []
    },
    {
     "cell_type": "code",
     "collapsed": false,
     "input": "sulfo_pie = pie(sulfo_slice, labels=pair_data.annotations())",
     "language": "python",
     "metadata": {},
     "outputs": []
    },
    {
     "cell_type": "code",
     "collapsed": false,
     "input": "",
     "language": "python",
     "metadata": {},
     "outputs": []
    }
   ],
   "metadata": {}
  }
 ]
}