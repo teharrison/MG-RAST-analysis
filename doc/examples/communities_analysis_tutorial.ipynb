{
 "metadata": {
  "name": "communities_analysis_tutorial"
 },
 "nbformat": 3,
 "nbformat_minor": 0,
 "worksheets": [
  {
   "cells": [
    {
     "cell_type": "code",
     "collapsed": false,
     "input": "gut_samples = [\n['chic.1', \"mgm4440283.3\"],\n['chic.2', \"mgm4440284.3\"],\n['cow.1', \"mgm4441679.3\"],\n['cow.2', \"mgm4441680.3\"],\n['mus.1', \"mgm4440463.3\"],\n['mus.2', \"mgm4440464.3\"],\n['fish.1', \"mgm4441695.3\"],\n['fish.2', \"mgm4441696.3\"]]\n\ngut_ids   = slice_column(gut_samples, 1)\ngut_names = slice_column(gut_samples, 0)\n\nprint gut_ids\nprint gut_names",
     "language": "python",
     "metadata": {},
     "outputs": []
    },
    {
     "cell_type": "code",
     "collapsed": false,
     "input": "gut_data = analysis.Analysis(gut_ids, 'metagenome', annotation='function', source='Subsystems', level='level3')\nprint gut_data.ids()",
     "language": "python",
     "metadata": {},
     "outputs": []
    },
    {
     "cell_type": "code",
     "collapsed": false,
     "input": "gut_data.annotations()[:10]",
     "language": "python",
     "metadata": {},
     "outputs": []
    },
    {
     "cell_type": "code",
     "collapsed": false,
     "input": "print \"python sparse matrix\"\nprint gut_data.matrix[:10]\nprint \"r dense matrix\"\nprint gut_data.Rmatrix\nprint \"r dense normalized matrix\"\nprint gut_data.NRmatrix",
     "language": "python",
     "metadata": {},
     "outputs": []
    },
    {
     "cell_type": "code",
     "collapsed": false,
     "input": "apco = gut_data.get_pco(method='bray-curtis', normalize=1)\nprint apco",
     "language": "python",
     "metadata": {},
     "outputs": []
    },
    {
     "cell_type": "code",
     "collapsed": false,
     "input": "afile = gut_data.plot_pco(labels=gut_names, title='PCoA of gut data')\nImage(filename=afile)",
     "language": "python",
     "metadata": {},
     "outputs": []
    },
    {
     "cell_type": "code",
     "collapsed": false,
     "input": "afile = gut_data.plot_heatmap(labels=gut_names, title='PCoA of gut data')\nImage(filename=afile)",
     "language": "python",
     "metadata": {},
     "outputs": []
    },
    {
     "cell_type": "code",
     "collapsed": false,
     "input": "",
     "language": "python",
     "metadata": {},
     "outputs": []
    }
   ],
   "metadata": {}
  }
 ]
}