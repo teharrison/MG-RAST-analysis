{
 "metadata": {
  "name": "drisee merge"
 },
 "nbformat": 3,
 "nbformat_minor": 0,
 "worksheets": [
  {
   "cells": [
    {
     "cell_type": "code",
     "collapsed": false,
     "input": "id_set = ['mgm4472090.3','mgm4472091.3','mgm4472092.3','mgm4472093.3','mgm4472094.3','mgm4472095.3','mgm4472096.3','mgm4472097.3']\nqc_set = map( lambda x: qc.QC(x), id_set )\nprint len(qc_set)",
     "language": "python",
     "metadata": {},
     "outputs": []
    },
    {
     "cell_type": "code",
     "collapsed": false,
     "input": "qc_filt = filter( lambda x: x.drisee.count is not None, qc_set )\nprint len(qc_filt)",
     "language": "python",
     "metadata": {},
     "outputs": []
    },
    {
     "cell_type": "code",
     "collapsed": false,
     "input": "qc_merge = qc.merge_drisee_profile(qc_filt)\nqc_merge.plot()",
     "language": "python",
     "metadata": {},
     "outputs": []
    },
    {
     "cell_type": "code",
     "collapsed": false,
     "input": "",
     "language": "python",
     "metadata": {},
     "outputs": []
    }
   ],
   "metadata": {}
  }
 ]
}