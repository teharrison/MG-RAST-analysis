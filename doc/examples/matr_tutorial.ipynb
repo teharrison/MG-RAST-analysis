{
 "metadata": {
  "name": "matr tutorial"
 },
 "nbformat": 3,
 "nbformat_minor": 0,
 "worksheets": [
  {
   "cells": [
    {
     "cell_type": "code",
     "collapsed": false,
     "input": "%load_ext rmagic\n%R library(matR)\n%R mconfig$server(\"http://test.metagenomics.anl.gov/api.cgi/\")",
     "language": "python",
     "metadata": {},
     "outputs": []
    },
    {
     "cell_type": "code",
     "collapsed": false,
     "input": "%%R\ngut_samples <- c (chic.1= \"mgm4440283.3\",\nchic.2 = \"mgm4440284.3\",\nchic.3 = \"mgm4440285.3\",\nchic.4 = \"mgm4440286.3\",\ncow.1 = \"mgm4441679.3\",\ncow.2 = \"mgm4441680.3\",\ncow.3 = \"mgm4441682.3\",\nmus.1 = \"mgm4440463.3\",\nmus.2 = \"mgm4440464.3\",\nfish.1 = \"mgm4441695.3\",\nfish.2 = \"mgm4441696.3\"\n)\nmy_gut_data <- collection(gut_samples)",
     "language": "python",
     "metadata": {},
     "outputs": []
    },
    {
     "cell_type": "code",
     "collapsed": false,
     "input": "%%R\nmy_gut_data$count\nmy_gut_data$normed\nmy_gut_data$evalue\nmy_gut_data$length\nmy_gut_data$percentid",
     "language": "python",
     "metadata": {},
     "outputs": []
    },
    {
     "cell_type": "code",
     "collapsed": false,
     "input": "%%R\nmy_metadata <- metadata(my_gut_data)\nnames(my_metadata)\nsingle_sample_metadata <- my_metadata[[\"4440283.3\"]]\nsingle_sample_metadata",
     "language": "python",
     "metadata": {},
     "outputs": []
    },
    {
     "cell_type": "code",
     "collapsed": false,
     "input": "%%R\nsingle_sample_metadata$name\nsingle_sample_metadata$metadata$library$data$seq_center\nsingle_sample_metadata$metadata$library$data$seq_meth\nsingle_sample_metadata$metadata$sample$data$biome",
     "language": "python",
     "metadata": {},
     "outputs": []
    },
    {
     "cell_type": "code",
     "collapsed": false,
     "input": "%%R\nfor (i in 1:dim(as.matrix(names(my_metadata)))[1]){  \n    print(\n           paste( names(my_metadata)[i], \"   \",\n                  ( my_metadata[[names(my_metadata)[i]]]$metadata$library$data$metagenome_name )\n                )\n         )\n}",
     "language": "python",
     "metadata": {},
     "outputs": []
    },
    {
     "cell_type": "code",
     "collapsed": false,
     "input": "%%R\nmy_metadata[[names(my_metadata)[i]]]$metadata$sample$data$biome\nmy_metadata[[names(my_metadata)[i]]]$metadata$library$data$seq_meth",
     "language": "python",
     "metadata": {},
     "outputs": []
    },
    {
     "cell_type": "code",
     "collapsed": false,
     "input": "%R render (my_gut_data, fname = \"images/boxplot_raw.png\", views = \"count\")\nImage(filename='images/boxplot_raw.png')",
     "language": "python",
     "metadata": {},
     "outputs": []
    },
    {
     "cell_type": "code",
     "collapsed": false,
     "input": "%R render (my_gut_data, fname = 'images/boxplot_norm.png', views = \"normed\")\nImage(filename='images/boxplot_norm.png')",
     "language": "python",
     "metadata": {},
     "outputs": []
    },
    {
     "cell_type": "code",
     "collapsed": false,
     "input": "%%R\nmy_PCoA <- mpco (my_gut_data$normed, method = \"euclidean\")\nmy_PCoA",
     "language": "python",
     "metadata": {},
     "outputs": []
    },
    {
     "cell_type": "code",
     "collapsed": false,
     "input": "%R render (my_PCoA, fname = \"images/pco_1.png\", main = \"PCoA of gut data\", labels = names(gut_samples))\nImage(filename='images/pco_1.png')",
     "language": "python",
     "metadata": {},
     "outputs": []
    },
    {
     "cell_type": "code",
     "collapsed": false,
     "input": "%R my_color_groupings <- c ( rep(\"red\", 4), rep(\"blue\", 3), rep(\"green\", 2), rep(\"hotpink\",2))\n%R render (my_PCoA, fname = \"images/pco_2.png\", main = \"Colored PCoA of gut data\", col = my_color_groupings, labels = names(gut_samples))\nImage(filename='images/pco_2.png')",
     "language": "python",
     "metadata": {},
     "outputs": []
    },
    {
     "cell_type": "code",
     "collapsed": false,
     "input": "%R mheatmap (my_gut_data$normed, image_out = \"images/heatmap_dendrogram.jpg\", labRow = NA, labCol = names(gut_samples), col_lab_mult = 1.2, margins = c (9,1), image_title = \"my_gut_data.heatmap_dendrogram\")\nImage(filename='images/heatmap_dendrogram.jpg')",
     "language": "python",
     "metadata": {},
     "outputs": []
    },
    {
     "cell_type": "code",
     "collapsed": false,
     "input": "",
     "language": "python",
     "metadata": {},
     "outputs": []
    }
   ],
   "metadata": {}
  }
 ]
}